{
 "cells": [
  {
   "cell_type": "code",
   "execution_count": null,
   "metadata": {},
   "outputs": [],
   "source": [
    "# from nltk.corpus import stopwords\n",
    "# from nltk.stem.porter import PorterStemmer\n",
    "import re\n",
    "import pandas as pd\n",
    "from concurrent.futures import ThreadPoolExecutor\n",
    "from pyserini.index import IndexReader\n",
    "import pandas as pd\n",
    "from pyserini.search import LuceneSearcher\n",
    "from tqdm import tqdm\n"
   ]
  },
  {
   "cell_type": "code",
   "execution_count": null,
   "metadata": {},
   "outputs": [],
   "source": [
    "import os\n",
    "import pandas as pd\n",
    "import spacy\n",
    "from spacy.lang.en import English\n",
    "from spacy.lang.en.stop_words import STOP_WORDS\n",
    "from dask.distributed import Client, LocalCluster\n",
    "from dask import dataframe as dd\n",
    "import re\n"
   ]
  },
  {
   "cell_type": "code",
   "execution_count": null,
   "metadata": {},
   "outputs": [],
   "source": [
    "\n",
    "nlp = English()\n",
    "nlp.Defaults.stop_words = STOP_WORDS\n",
    "\n",
    "def preprocess_text(text, remove_stopwords=False, apply_stemming=False):\n",
    "    if not isinstance(text, str):\n",
    "        text = str(text)\n",
    "    # Convert to lowercase\n",
    "    text = text.lower()\n",
    "    \n",
    "    # Remove non-alphabetic characters\n",
    "    text = re.sub(r'[^a-zA-Z]', ' ', text)\n",
    "\n",
    "    doc = nlp(text)\n",
    "    if remove_stopwords and apply_stemming:\n",
    "        return ' '.join([token.lemma_ for token in doc if not token.is_stop])\n",
    "    elif remove_stopwords:\n",
    "        return ' '.join([token.text for token in doc if not token.is_stop])\n",
    "    elif apply_stemming:\n",
    "        return ' '.join([token.lemma_ for token in doc])\n",
    "    else:\n",
    "        return ' '.join([token.text for token in doc])\n",
    "\n",
    "def process_tsv_file(file_path, variant):\n",
    "    # Load TSV file with Dask (replace 'text' with the name of the column containing the text)\n",
    "    df = dd.read_csv(file_path, sep='\\t', blocksize='64MB', header=None, names=['docno', 'URL','text','dn']) # adjust blocksize and column names as needed\n",
    "    df = df[['docno', 'text', 'dn']]\n",
    "    \n",
    "    # Apply preprocessing\n",
    "    df['text'] = df['text'].apply(lambda text: preprocess_text(text, remove_stopwords=variant['stopwords'], apply_stemming=variant['stemming']), meta=('text', 'str'))\n",
    "\n",
    "    # Compute and return as pandas dataframe\n",
    "    return df.compute()\n",
    "\n",
    "\n",
    "\n",
    "# Initialize Dask client\n",
    "if not 'client' in locals():\n",
    "    cluster = LocalCluster(n_workers=4, threads_per_worker=1)\n",
    "    client = Client(cluster)\n",
    "\n",
    "# Preprocessing options\n",
    "index_variants = [\n",
    "    {\n",
    "        \"name\": \"full_index\",\n",
    "        \"index_path\": \"full_index/\",\n",
    "        \"stopwords\": False,\n",
    "        \"stemming\": False,\n",
    "    },\n",
    "    {\n",
    "        \"name\": \"stopwords_removed\",\n",
    "        \"index_path\": \"stopwords_removed/\",\n",
    "        \"stopwords\": True,\n",
    "        \"stemming\": False,\n",
    "    },\n",
    "    {\n",
    "        \"name\": \"stemming\",\n",
    "        \"index_path\": \"stemming/\",\n",
    "        \"stopwords\": False,\n",
    "        \"stemming\": True,\n",
    "    },\n",
    "    {\n",
    "        \"name\": \"stopwords_removed_stemming\",\n",
    "        \"index_path\": \"stopwords_removed_stemming/\",\n",
    "        \"stopwords\": True,\n",
    "        \"stemming\": True,\n",
    "    },\n",
    "]\n",
    "\n",
    "\n",
    "path_to_tsv_file = 'data/msmarco-docs.tsv'\n",
    "\n"
   ]
  },
  {
   "cell_type": "code",
   "execution_count": 10,
   "metadata": {},
   "outputs": [],
   "source": [
    "import os\n",
    "import pandas as pd\n",
    "import spacy\n",
    "from spacy.lang.en import English\n",
    "from spacy.lang.en.stop_words import STOP_WORDS\n",
    "from dask.distributed import Client, LocalCluster\n",
    "from dask import dataframe as dd\n",
    "import re\n",
    "\n",
    "nlp = English()\n",
    "nlp.Defaults.stop_words = STOP_WORDS\n",
    "\n",
    "def preprocess_text(text, remove_stopwords=False, apply_stemming=False):\n",
    "    if not isinstance(text, str):\n",
    "        text = str(text)\n",
    "    # Convert to lowercase\n",
    "    text = text.lower()\n",
    "    \n",
    "    # Remove non-alphabetic characters\n",
    "    text = re.sub(r'[^a-zA-Z]', ' ', text)\n",
    "\n",
    "    doc = nlp(text)\n",
    "    if remove_stopwords and apply_stemming:\n",
    "        return ' '.join([token.lemma_ for token in doc if not token.is_stop])\n",
    "    elif remove_stopwords:\n",
    "        return ' '.join([token.text for token in doc if not token.is_stop])\n",
    "    elif apply_stemming:\n",
    "        return ' '.join([token.lemma_ for token in doc])\n",
    "    else:\n",
    "        return ' '.join([token.text for token in doc])\n",
    "\n",
    "def process_tsv_file(file_path, variant):\n",
    "    # Load TSV file with Dask (replace 'text_column' with the name of the column containing the text)\n",
    "    df = dd.read_csv(file_path, sep='\\t', blocksize='64MB', header=None, names=['docno', 'URL','text_column','dn'],) # adjust blocksize and column names as needed\n",
    "    # Apply preprocessing\n",
    "    df['text_column'] = df['text_column'].apply(lambda text: preprocess_text(text, remove_stopwords=variant['stopwords'], apply_stemming=variant['stemming']), meta=('text_column', 'str'))\n",
    "\n",
    "    # Save preprocessed data to a TSV file\n",
    "    output_file = variant[\"index_path\"] + 'preprocessed_*.tsv'\n",
    "    df.to_csv(output_file, sep='\\t', index=False, compute=True)\n",
    "\n",
    "# Initialize Dask client\n",
    "if not 'client' in locals():\n",
    "    cluster = LocalCluster(n_workers=4, threads_per_worker=1)\n",
    "    client = Client(cluster)\n",
    "\n",
    "# Path to your TSV file\n",
    "path_to_tsv_file = 'data/msmarco-docs.tsv'\n",
    "\n",
    "\n"
   ]
  },
  {
   "cell_type": "code",
   "execution_count": 17,
   "metadata": {},
   "outputs": [],
   "source": [
    "# Preprocessing options\n",
    "index_variants = [\n",
    "    {\n",
    "        \"name\": \"full_index\",\n",
    "        \"index_path\": \"full_index/\",\n",
    "        \"stopwords\": False,\n",
    "        \"stemming\": False,\n",
    "    },\n",
    "    {\n",
    "        \"name\": \"stopwords_removed\",\n",
    "        \"index_path\": \"stopwords_removed/\",\n",
    "        \"stopwords\": True,\n",
    "        \"stemming\": False,\n",
    "    },\n",
    "    {\n",
    "        \"name\": \"stemming\",\n",
    "        \"index_path\": \"stemming/\",\n",
    "        \"stopwords\": False,\n",
    "        \"stemming\": True,\n",
    "    },\n",
    "    {\n",
    "        \"name\": \"stopwords_removed_stemming\",\n",
    "        \"index_path\": \"stopwords_removed_stemming/\",\n",
    "        \"stopwords\": True,\n",
    "        \"stemming\": True,\n",
    "    },\n",
    "]\n"
   ]
  },
  {
   "cell_type": "code",
   "execution_count": 18,
   "metadata": {},
   "outputs": [],
   "source": [
    "full = index_variants[0]\n",
    "stopwords_removed = index_variants[1] \n",
    "stemming = index_variants[2] \n",
    "stopwords_removed_stemming = index_variants[3] \n"
   ]
  },
  {
   "cell_type": "code",
   "execution_count": 19,
   "metadata": {},
   "outputs": [],
   "source": [
    "full_df = process_tsv_file(path_to_tsv_file, full\n",
    ")\n"
   ]
  },
  {
   "cell_type": "code",
   "execution_count": 16,
   "metadata": {},
   "outputs": [
    {
     "ename": "AttributeError",
     "evalue": "'NoneType' object has no attribute 'to_csv'",
     "output_type": "error",
     "traceback": [
      "\u001b[0;31m---------------------------------------------------------------------------\u001b[0m",
      "\u001b[0;31mAttributeError\u001b[0m                            Traceback (most recent call last)",
      "Cell \u001b[0;32mIn[16], line 1\u001b[0m\n\u001b[0;32m----> 1\u001b[0m full_df\u001b[39m.\u001b[39;49mto_csv( \u001b[39m'\u001b[39m\u001b[39mfull.tsv\u001b[39m\u001b[39m'\u001b[39m, sep\u001b[39m=\u001b[39m\u001b[39m'\u001b[39m\u001b[39m\\t\u001b[39;00m\u001b[39m'\u001b[39m, index\u001b[39m=\u001b[39m\u001b[39mFalse\u001b[39;00m)\n\u001b[1;32m      2\u001b[0m \u001b[39m# full_df.to_csv(\u001b[39;00m\n\u001b[1;32m      3\u001b[0m \u001b[39m# \".\"+ 'full.tsv', sep='\\t', index=False)\u001b[39;00m\n",
      "\u001b[0;31mAttributeError\u001b[0m: 'NoneType' object has no attribute 'to_csv'"
     ]
    }
   ],
   "source": [
    "full_df.to_csv( 'full.tsv', sep='\\t', index=False)\n",
    "# full_df.to_csv(\n",
    "# \".\"+ 'full.tsv', sep='\\t', index=False)"
   ]
  },
  {
   "cell_type": "code",
   "execution_count": null,
   "metadata": {},
   "outputs": [],
   "source": [
    "stopwords_removed_df = process_tsv_file(path_to_tsv_file, stopwords_removed\n",
    ")\n",
    "stopwords_removed_df.to_csv(\n",
    "\".\"+ 'stopwords_removed.tsv', sep='\\t', index=False)"
   ]
  },
  {
   "cell_type": "code",
   "execution_count": null,
   "metadata": {},
   "outputs": [],
   "source": [
    "stemming_df = process_tsv_file(path_to_tsv_file, stemming)\n",
    "stemming_df.to_csv(\".\" + 'stemming.tsv', sep='\\t', index=False)\n",
    "\n"
   ]
  },
  {
   "cell_type": "code",
   "execution_count": null,
   "metadata": {},
   "outputs": [],
   "source": [
    "stopwords_removed_stemming_df = process_tsv_file(path_to_tsv_file, stopwords_removed_stemming)\n",
    "stopwords_removed_stemming_df.to_csv(\".\" + 'stopwords_removed_stemming.tsv', sep='\\t', index=False)"
   ]
  },
  {
   "cell_type": "code",
   "execution_count": null,
   "metadata": {},
   "outputs": [],
   "source": []
  },
  {
   "cell_type": "code",
   "execution_count": null,
   "metadata": {},
   "outputs": [],
   "source": [
    "(pd.read_csv('full.tsv', sep='\\t').head(2)['text_column']).str.split().apply(len).sum()"
   ]
  },
  {
   "cell_type": "code",
   "execution_count": null,
   "metadata": {},
   "outputs": [],
   "source": []
  }
 ],
 "metadata": {
  "kernelspec": {
   "display_name": ".venv",
   "language": "python",
   "name": "python3"
  },
  "language_info": {
   "codemirror_mode": {
    "name": "ipython",
    "version": 3
   },
   "file_extension": ".py",
   "mimetype": "text/x-python",
   "name": "python",
   "nbconvert_exporter": "python",
   "pygments_lexer": "ipython3",
   "version": "3.8.16"
  },
  "orig_nbformat": 4
 },
 "nbformat": 4,
 "nbformat_minor": 2
}
